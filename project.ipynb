{
 "cells": [
  {
   "cell_type": "code",
   "execution_count": 234,
   "id": "f5c1f747",
   "metadata": {},
   "outputs": [],
   "source": [
    "import ast\n",
    "import os"
   ]
  },
  {
   "cell_type": "code",
   "execution_count": 4,
   "id": "ecd4af14",
   "metadata": {
    "scrolled": true
   },
   "outputs": [
    {
     "data": {
      "text/plain": [
       "<ast.Module at 0x7fb058016b50>"
      ]
     },
     "execution_count": 4,
     "metadata": {},
     "output_type": "execute_result"
    }
   ],
   "source": [
    "with open('/Users/andrejvorsin/Documents/Jupyter projects/Python 2/plagiat_checker/main.py', 'r') as f:\n",
    "    d = ast.parse(f.read())\n",
    "    \n",
    "d"
   ]
  },
  {
   "cell_type": "code",
   "execution_count": 1,
   "id": "cb7b75f7",
   "metadata": {},
   "outputs": [
    {
     "name": "stdout",
     "output_type": "stream",
     "text": [
      "aalalalalla\n"
     ]
    }
   ],
   "source": [
    "print('aalalalalla')"
   ]
  },
  {
   "cell_type": "code",
   "execution_count": null,
   "id": "e8f74116",
   "metadata": {},
   "outputs": [],
   "source": []
  },
  {
   "cell_type": "code",
   "execution_count": null,
   "id": "4acba9bc",
   "metadata": {},
   "outputs": [],
   "source": []
  },
  {
   "cell_type": "code",
   "execution_count": null,
   "id": "366d91c6",
   "metadata": {},
   "outputs": [],
   "source": []
  },
  {
   "cell_type": "code",
   "execution_count": null,
   "id": "b7bce4d3",
   "metadata": {},
   "outputs": [],
   "source": []
  },
  {
   "cell_type": "code",
   "execution_count": null,
   "id": "e645dff5",
   "metadata": {},
   "outputs": [],
   "source": []
  },
  {
   "cell_type": "code",
   "execution_count": 37,
   "id": "94fe215a",
   "metadata": {},
   "outputs": [
    {
     "name": "stdout",
     "output_type": "stream",
     "text": [
      "Module(\n",
      "    body=[\n",
      "        Expr(\n",
      "            value=Call(\n",
      "                func=Attribute(\n",
      "                    value=Name(id='x', ctx=Load()),\n",
      "                    attr='append',\n",
      "                    ctx=Load()),\n",
      "                args=[\n",
      "                    Constant(value=2)],\n",
      "                keywords=[]))],\n",
      "    type_ignores=[])\n",
      "\n",
      "Node type: Name\n",
      "Fields: ('id', 'ctx')\n",
      "Node type: Constant\n",
      "Fields: ('value', 'kind')\n"
     ]
    }
   ],
   "source": [
    "import ast\n",
    "from pprint import pprint\n",
    "\n",
    "class Visitor(ast.NodeVisitor):\n",
    "\n",
    "    def __init__(self):\n",
    "        self.data = []\n",
    "    \n",
    "    def visit_If(self, node):\n",
    "        print('Node type: If\\nFields:', node._fields)\n",
    "        ast.NodeVisitor.generic_visit(self, node)    \n",
    "\n",
    "    def visit_Compare(self, node):\n",
    "        self.data.append(type(node))\n",
    "        ast.NodeVisitor.generic_visit(self, node)\n",
    "\n",
    "    def visit_Name(self, node):\n",
    "        print('Node type: Name\\nFields:', node._fields)\n",
    "        ast.NodeVisitor.generic_visit(self, node)\n",
    "\n",
    "    def visit_Constant(self, node):\n",
    "        print('Node type: Constant\\nFields:', node._fields)\n",
    "        ast.NodeVisitor.generic_visit(self, node)\n",
    "\n",
    "    def visit_Pass(self, node):\n",
    "        print('Node type: Pass\\nFields:', node._fields)\n",
    "        ast.NodeVisitor.generic_visit(self, node)    \n",
    "    \n",
    "\n",
    "visitor = Visitor()\n",
    "tree = ast.parse(\"\"\"\n",
    "\n",
    "\"\"\")\n",
    "print(ast.dump(tree, indent=4), end='\\n\\n')\n",
    "visitor.visit(tree)"
   ]
  },
  {
   "cell_type": "code",
   "execution_count": 149,
   "id": "91953aa6",
   "metadata": {},
   "outputs": [
    {
     "data": {
      "text/plain": [
       "range(0, 0)"
      ]
     },
     "execution_count": 149,
     "metadata": {},
     "output_type": "execute_result"
    }
   ],
   "source": [
    "range(0)"
   ]
  },
  {
   "cell_type": "code",
   "execution_count": 150,
   "id": "7c898bab",
   "metadata": {},
   "outputs": [
    {
     "name": "stdout",
     "output_type": "stream",
     "text": [
      "Collecting antlr-ast\n",
      "  Downloading antlr-ast-0.8.1.tar.gz (29 kB)\n",
      "  Preparing metadata (setup.py) ... \u001b[?25ldone\n",
      "\u001b[?25hCollecting antlr4-python3-runtime~=4.7.2\n",
      "  Downloading antlr4-python3-runtime-4.7.2.tar.gz (112 kB)\n",
      "\u001b[2K     \u001b[90m━━━━━━━━━━━━━━━━━━━━━━━━━━━━━━━━━━━━━━━\u001b[0m \u001b[32m112.3/112.3 kB\u001b[0m \u001b[31m1.2 MB/s\u001b[0m eta \u001b[36m0:00:00\u001b[0ma \u001b[36m0:00:01\u001b[0m\n",
      "\u001b[?25h  Preparing metadata (setup.py) ... \u001b[?25ldone\n",
      "\u001b[?25hBuilding wheels for collected packages: antlr-ast, antlr4-python3-runtime\n",
      "  Building wheel for antlr-ast (setup.py) ... \u001b[?25ldone\n",
      "\u001b[?25h  Created wheel for antlr-ast: filename=antlr_ast-0.8.1-py3-none-any.whl size=26358 sha256=ea1cb68cdf88f4cd81d7a9bf9796537564b35919fe6b9e4501f90c38e0e1cfd5\n",
      "  Stored in directory: /Users/andrejvorsin/Library/Caches/pip/wheels/5a/30/b3/e76081b054600d49be689d9ae87b2483fdc437598602e5ec1a\n",
      "  Building wheel for antlr4-python3-runtime (setup.py) ... \u001b[?25ldone\n",
      "\u001b[?25h  Created wheel for antlr4-python3-runtime: filename=antlr4_python3_runtime-4.7.2-py3-none-any.whl size=140930 sha256=2fce781b916ac3607516f42a2cba666b5e942551715e7949741be7d8a43bac0c\n",
      "  Stored in directory: /Users/andrejvorsin/Library/Caches/pip/wheels/09/6d/af/8a11354277136f3e922596f9b0c205e45ddd4b8f0bda5b5c6f\n",
      "Successfully built antlr-ast antlr4-python3-runtime\n",
      "Installing collected packages: antlr4-python3-runtime, antlr-ast\n",
      "Successfully installed antlr-ast-0.8.1 antlr4-python3-runtime-4.7.2\n"
     ]
    }
   ],
   "source": [
    "!pip install antlr-ast"
   ]
  },
  {
   "cell_type": "code",
   "execution_count": 152,
   "id": "34dea2e9",
   "metadata": {},
   "outputs": [],
   "source": [
    "import antlr4"
   ]
  },
  {
   "cell_type": "code",
   "execution_count": 175,
   "id": "1e19f732",
   "metadata": {},
   "outputs": [],
   "source": [
    "import dis"
   ]
  },
  {
   "cell_type": "code",
   "execution_count": 179,
   "id": "fa3b3007",
   "metadata": {},
   "outputs": [
    {
     "name": "stdout",
     "output_type": "stream",
     "text": [
      "  2           0 LOAD_CONST               0 (<code object f at 0x7fb08ad21190, file \"<dis>\", line 2>)\n",
      "              2 LOAD_CONST               1 ('f')\n",
      "              4 MAKE_FUNCTION            0\n",
      "              6 STORE_NAME               0 (f)\n",
      "\n",
      "  5           8 LOAD_NAME                0 (f)\n",
      "             10 LOAD_CONST               2 (1)\n",
      "             12 CALL_FUNCTION            1\n",
      "             14 STORE_NAME               1 (y)\n",
      "             16 LOAD_CONST               3 (None)\n",
      "             18 RETURN_VALUE\n",
      "\n",
      "Disassembly of <code object f at 0x7fb08ad21190, file \"<dis>\", line 2>:\n",
      "  3           0 LOAD_FAST                0 (x)\n",
      "              2 LOAD_CONST               1 (2)\n",
      "              4 INPLACE_MULTIPLY\n",
      "              6 STORE_FAST               0 (x)\n",
      "\n",
      "  4           8 LOAD_FAST                0 (x)\n",
      "             10 RETURN_VALUE\n"
     ]
    }
   ],
   "source": [
    "t = dis.dis('''\n",
    "def f(x):\n",
    "    x *= 2\n",
    "    return x\n",
    "y = f(1)''')"
   ]
  },
  {
   "cell_type": "code",
   "execution_count": 180,
   "id": "806745cc",
   "metadata": {
    "scrolled": true
   },
   "outputs": [
    {
     "name": "stdout",
     "output_type": "stream",
     "text": [
      "  1           0 LOAD_CONST               0 (2)\n",
      "              2 STORE_NAME               0 (y)\n",
      "              4 LOAD_CONST               1 (None)\n",
      "              6 RETURN_VALUE\n"
     ]
    }
   ],
   "source": [
    "dis.dis('''y = 2''')"
   ]
  },
  {
   "cell_type": "code",
   "execution_count": null,
   "id": "28191075",
   "metadata": {},
   "outputs": [],
   "source": []
  },
  {
   "cell_type": "code",
   "execution_count": null,
   "id": "b4cfee88",
   "metadata": {},
   "outputs": [],
   "source": []
  },
  {
   "cell_type": "code",
   "execution_count": 172,
   "id": "bc56a43a",
   "metadata": {},
   "outputs": [
    {
     "name": "stdout",
     "output_type": "stream",
     "text": [
      "Module(\n",
      "    body=[\n",
      "        FunctionDef(\n",
      "            name='f',\n",
      "            args=arguments(\n",
      "                posonlyargs=[],\n",
      "                args=[\n",
      "                    arg(arg='x')],\n",
      "                kwonlyargs=[],\n",
      "                kw_defaults=[],\n",
      "                defaults=[]),\n",
      "            body=[\n",
      "                AugAssign(\n",
      "                    target=Name(id='x', ctx=Store()),\n",
      "                    op=Mult(),\n",
      "                    value=Constant(value=2)),\n",
      "                Return(\n",
      "                    value=Name(id='x', ctx=Load()))],\n",
      "            decorator_list=[]),\n",
      "        Assign(\n",
      "            targets=[\n",
      "                Name(id='y', ctx=Store())],\n",
      "            value=Call(\n",
      "                func=Name(id='f', ctx=Load()),\n",
      "                args=[\n",
      "                    Constant(value=1)],\n",
      "                keywords=[]))],\n",
      "    type_ignores=[])\n",
      "\n"
     ]
    }
   ],
   "source": [
    "tree = ast.parse(\"\"\"\n",
    "def f(x):\n",
    "    x *= 2\n",
    "    return x\n",
    "    \n",
    "y = f(1)\n",
    "\"\"\")\n",
    "print(ast.dump(tree, indent=4), end='\\n\\n')"
   ]
  },
  {
   "cell_type": "code",
   "execution_count": 235,
   "id": "47a23ac2",
   "metadata": {},
   "outputs": [
    {
     "name": "stdout",
     "output_type": "stream",
     "text": [
      "Module(\n",
      "    body=[\n",
      "        ClassDef(\n",
      "            name='A',\n",
      "            bases=[],\n",
      "            keywords=[],\n",
      "            body=[\n",
      "                FunctionDef(\n",
      "                    name='__init__',\n",
      "                    args=arguments(\n",
      "                        posonlyargs=[],\n",
      "                        args=[\n",
      "                            arg(arg='self')],\n",
      "                        kwonlyargs=[],\n",
      "                        kw_defaults=[],\n",
      "                        defaults=[]),\n",
      "                    body=[\n",
      "                        Assign(\n",
      "                            targets=[\n",
      "                                Attribute(\n",
      "                                    value=Name(id='self', ctx=Load()),\n",
      "                                    attr='a',\n",
      "                                    ctx=Store())],\n",
      "                            value=Constant(value=1))],\n",
      "                    decorator_list=[])],\n",
      "            decorator_list=[])],\n",
      "    type_ignores=[])\n",
      "\n"
     ]
    }
   ],
   "source": [
    "tree = ast.parse(\"\"\"\n",
    "class A:\n",
    "    \n",
    "    def __init__(self):\n",
    "        self.a = 1\n",
    "\"\"\")\n",
    "print(ast.dump(tree, indent=4), end='\\n\\n')"
   ]
  },
  {
   "cell_type": "code",
   "execution_count": null,
   "id": "bc788607",
   "metadata": {},
   "outputs": [],
   "source": []
  },
  {
   "cell_type": "code",
   "execution_count": null,
   "id": "71e8c72d",
   "metadata": {},
   "outputs": [],
   "source": []
  },
  {
   "cell_type": "code",
   "execution_count": null,
   "id": "dce0d845",
   "metadata": {},
   "outputs": [],
   "source": []
  },
  {
   "cell_type": "code",
   "execution_count": null,
   "id": "c33dd1c2",
   "metadata": {},
   "outputs": [],
   "source": []
  },
  {
   "cell_type": "code",
   "execution_count": 126,
   "id": "10717856",
   "metadata": {},
   "outputs": [
    {
     "data": {
      "text/plain": [
       "dict"
      ]
     },
     "execution_count": 126,
     "metadata": {},
     "output_type": "execute_result"
    }
   ],
   "source": [
    "type({})"
   ]
  },
  {
   "cell_type": "code",
   "execution_count": null,
   "id": "32c67a11",
   "metadata": {},
   "outputs": [],
   "source": []
  },
  {
   "cell_type": "code",
   "execution_count": 121,
   "id": "b61d2bdd",
   "metadata": {},
   "outputs": [],
   "source": [
    "*x, y = f(x)"
   ]
  },
  {
   "cell_type": "code",
   "execution_count": 181,
   "id": "eafd7fe2",
   "metadata": {},
   "outputs": [],
   "source": [
    "def f(x):\n",
    "    for i in range(x):\n",
    "        print(i)\n",
    "    return x - 1\n",
    "\n",
    "def g(x):\n",
    "    return x ** 2 - 4 * x\n",
    "\n",
    "def h(x, y):\n",
    "    return x == y"
   ]
  },
  {
   "cell_type": "code",
   "execution_count": null,
   "id": "b56037a1",
   "metadata": {},
   "outputs": [],
   "source": []
  },
  {
   "cell_type": "code",
   "execution_count": null,
   "id": "ec52fd91",
   "metadata": {},
   "outputs": [],
   "source": []
  },
  {
   "cell_type": "code",
   "execution_count": 226,
   "id": "a5e68514",
   "metadata": {},
   "outputs": [
    {
     "name": "stdout",
     "output_type": "stream",
     "text": [
      "Module(\n",
      "    body=[\n",
      "        FunctionDef(\n",
      "            name='f',\n",
      "            args=arguments(\n",
      "                posonlyargs=[],\n",
      "                args=[\n",
      "                    arg(arg='x')],\n",
      "                kwonlyargs=[],\n",
      "                kw_defaults=[],\n",
      "                defaults=[]),\n",
      "            body=[\n",
      "                For(\n",
      "                    target=Name(id='i', ctx=Store()),\n",
      "                    iter=Call(\n",
      "                        func=Name(id='range', ctx=Load()),\n",
      "                        args=[\n",
      "                            Name(id='x', ctx=Load())],\n",
      "                        keywords=[]),\n",
      "                    body=[\n",
      "                        Expr(\n",
      "                            value=Call(\n",
      "                                func=Name(id='print', ctx=Load()),\n",
      "                                args=[\n",
      "                                    Name(id='i', ctx=Load())],\n",
      "                                keywords=[]))],\n",
      "                    orelse=[]),\n",
      "                Return(\n",
      "                    value=BinOp(\n",
      "                        left=Name(id='x', ctx=Load()),\n",
      "                        op=Sub(),\n",
      "                        right=Constant(value=1)))],\n",
      "            decorator_list=[]),\n",
      "        FunctionDef(\n",
      "            name='g',\n",
      "            args=arguments(\n",
      "                posonlyargs=[],\n",
      "                args=[\n",
      "                    arg(arg='x')],\n",
      "                kwonlyargs=[],\n",
      "                kw_defaults=[],\n",
      "                defaults=[]),\n",
      "            body=[\n",
      "                Return(\n",
      "                    value=BinOp(\n",
      "                        left=BinOp(\n",
      "                            left=Name(id='x', ctx=Load()),\n",
      "                            op=Pow(),\n",
      "                            right=Constant(value=2)),\n",
      "                        op=Sub(),\n",
      "                        right=BinOp(\n",
      "                            left=Constant(value=4),\n",
      "                            op=Mult(),\n",
      "                            right=Name(id='x', ctx=Load()))))],\n",
      "            decorator_list=[]),\n",
      "        FunctionDef(\n",
      "            name='h',\n",
      "            args=arguments(\n",
      "                posonlyargs=[],\n",
      "                args=[\n",
      "                    arg(arg='x'),\n",
      "                    arg(arg='y')],\n",
      "                kwonlyargs=[],\n",
      "                kw_defaults=[],\n",
      "                defaults=[]),\n",
      "            body=[\n",
      "                Return(\n",
      "                    value=Compare(\n",
      "                        left=Name(id='x', ctx=Load()),\n",
      "                        ops=[\n",
      "                            Eq()],\n",
      "                        comparators=[\n",
      "                            Name(id='y', ctx=Load())]))],\n",
      "            decorator_list=[]),\n",
      "        Expr(\n",
      "            value=Call(\n",
      "                func=Name(id='print', ctx=Load()),\n",
      "                args=[\n",
      "                    Constant(value=1)],\n",
      "                keywords=[])),\n",
      "        For(\n",
      "            target=Name(id='i', ctx=Store()),\n",
      "            iter=Call(\n",
      "                func=Name(id='range', ctx=Load()),\n",
      "                args=[\n",
      "                    Constant(value=100)],\n",
      "                keywords=[]),\n",
      "            body=[\n",
      "                Assign(\n",
      "                    targets=[\n",
      "                        Name(id='ke', ctx=Store())],\n",
      "                    value=Call(\n",
      "                        func=Name(id='f', ctx=Load()),\n",
      "                        args=[\n",
      "                            Name(id='x', ctx=Load()),\n",
      "                            Name(id='y', ctx=Load()),\n",
      "                            Name(id='z', ctx=Load())],\n",
      "                        keywords=[])),\n",
      "                AugAssign(\n",
      "                    target=Name(id='ke', ctx=Store()),\n",
      "                    op=Pow(),\n",
      "                    value=Constant(value=2)),\n",
      "                Expr(\n",
      "                    value=Call(\n",
      "                        func=Name(id='print', ctx=Load()),\n",
      "                        args=[\n",
      "                            Name(id='ke', ctx=Load())],\n",
      "                        keywords=[]))],\n",
      "            orelse=[])],\n",
      "    type_ignores=[])\n",
      "\n"
     ]
    }
   ],
   "source": [
    "tree = ast.parse(\"\"\"\n",
    "def f(x):\n",
    "    for i in range(x):\n",
    "        print(i)\n",
    "    return x - 1\n",
    "\n",
    "def g(x):\n",
    "    return x ** 2 - 4 * x\n",
    "\n",
    "def h(x, y):\n",
    "    return x == y\n",
    "    \n",
    "    \n",
    "print(1)\n",
    "\n",
    "for i in range(100):\n",
    "    ke = f(x, y, z)\n",
    "    ke **= 2\n",
    "    print(ke)\n",
    "\"\"\")\n",
    "print(ast.dump(tree, indent=4), end='\\n\\n')"
   ]
  },
  {
   "cell_type": "code",
   "execution_count": 217,
   "id": "fe0d6a78",
   "metadata": {},
   "outputs": [
    {
     "data": {
      "text/plain": [
       "[<ast.Expr at 0x7fb07834baf0>,\n",
       " <ast.FunctionDef at 0x7fb07834b070>,\n",
       " <ast.FunctionDef at 0x7fb07834bf10>,\n",
       " <ast.FunctionDef at 0x7fb0993954f0>]"
      ]
     },
     "execution_count": 217,
     "metadata": {},
     "output_type": "execute_result"
    }
   ],
   "source": [
    "sorted(tree.body, key=lambda x: str(x))"
   ]
  },
  {
   "cell_type": "code",
   "execution_count": 218,
   "id": "015321d9",
   "metadata": {},
   "outputs": [],
   "source": [
    "class NodeSorting(ast.NodeVisitor):\n",
    "\n",
    "    def __init__(self):\n",
    "        self.sizes = {}\n",
    "        self.temp_res = 0\n",
    "\n",
    "    def run(self, module):\n",
    "        assert isinstance(module, ast.Module), \"search must start from module\"\n",
    "        for functor in module.body:\n",
    "            if not isinstance(functor, (ast.FunctionDef, ast.ClassDef)):\n",
    "                continue\n",
    "\n",
    "            self.generic_visit(functor)\n",
    "            self.sizes[str(functor)] = self.temp_res\n",
    "            self.temp_res = 0\n",
    "            \n",
    "        \n",
    "\n",
    "    def generic_visit(self, node):\n",
    "        self.temp_res += 1\n",
    "        super().generic_visit(node)"
   ]
  },
  {
   "cell_type": "code",
   "execution_count": 227,
   "id": "1042ff7a",
   "metadata": {},
   "outputs": [],
   "source": [
    "node_sort = NodeSorting()\n",
    "node_sort.run(tree)"
   ]
  },
  {
   "cell_type": "code",
   "execution_count": 228,
   "id": "97ddbac5",
   "metadata": {},
   "outputs": [
    {
     "data": {
      "text/plain": [
       "{'<ast.FunctionDef object at 0x7fb048052ee0>': 23,\n",
       " '<ast.FunctionDef object at 0x7fb0480527f0>': 16,\n",
       " '<ast.FunctionDef object at 0x7fb048052280>': 11}"
      ]
     },
     "execution_count": 228,
     "metadata": {},
     "output_type": "execute_result"
    }
   ],
   "source": [
    "node_sort.sizes"
   ]
  },
  {
   "cell_type": "code",
   "execution_count": 229,
   "id": "3552d768",
   "metadata": {},
   "outputs": [],
   "source": [
    "def sorting_module(obj, node_sort):\n",
    "    if str(obj) in node_sort.sizes.keys():\n",
    "        return node_sort.sizes[str(obj)]\n",
    "    else:\n",
    "        return 0"
   ]
  },
  {
   "cell_type": "code",
   "execution_count": 233,
   "id": "b2fb92b6",
   "metadata": {},
   "outputs": [],
   "source": [
    "tree.body = sorted(tree.body, key=lambda x: sorting_module(x, node_sort), reverse=True)"
   ]
  },
  {
   "cell_type": "code",
   "execution_count": 119,
   "id": "9c909728",
   "metadata": {},
   "outputs": [
    {
     "data": {
      "text/plain": [
       "range(0, 10)"
      ]
     },
     "execution_count": 119,
     "metadata": {},
     "output_type": "execute_result"
    }
   ],
   "source": [
    "x"
   ]
  },
  {
   "cell_type": "code",
   "execution_count": 25,
   "id": "0c977340",
   "metadata": {
    "scrolled": true
   },
   "outputs": [
    {
     "name": "stdout",
     "output_type": "stream",
     "text": [
      "Expression(\n",
      "    body=List(\n",
      "        elts=[\n",
      "            Constant(value=1),\n",
      "            Constant(value=2),\n",
      "            Constant(value=4)],\n",
      "        ctx=Load()))\n"
     ]
    }
   ],
   "source": [
    "print(ast.dump(ast.parse('[1, 2, 4]', mode='eval'), indent=4))"
   ]
  },
  {
   "cell_type": "code",
   "execution_count": 205,
   "id": "d8585da1",
   "metadata": {},
   "outputs": [
    {
     "data": {
      "text/plain": [
       "[<ast.FunctionDef at 0x7fb08ad0a6a0>,\n",
       " <ast.FunctionDef at 0x7fb08ad0a340>,\n",
       " <ast.FunctionDef at 0x7fb08ad0a700>]"
      ]
     },
     "execution_count": 205,
     "metadata": {},
     "output_type": "execute_result"
    }
   ],
   "source": [
    "tree.body"
   ]
  },
  {
   "cell_type": "code",
   "execution_count": null,
   "id": "a4e8b007",
   "metadata": {},
   "outputs": [],
   "source": []
  },
  {
   "cell_type": "code",
   "execution_count": null,
   "id": "4e0d680f",
   "metadata": {},
   "outputs": [],
   "source": []
  },
  {
   "cell_type": "code",
   "execution_count": null,
   "id": "c5622abf",
   "metadata": {},
   "outputs": [],
   "source": []
  },
  {
   "cell_type": "code",
   "execution_count": 29,
   "id": "442567fb",
   "metadata": {},
   "outputs": [
    {
     "ename": "SyntaxError",
     "evalue": "invalid syntax (<unknown>, line 1)",
     "output_type": "error",
     "traceback": [
      "Traceback \u001b[0;36m(most recent call last)\u001b[0m:\n",
      "  File \u001b[1;32m\"/Users/andrejvorsin/opt/anaconda3/lib/python3.9/site-packages/IPython/core/interactiveshell.py\"\u001b[0m, line \u001b[1;32m3457\u001b[0m, in \u001b[1;35mrun_code\u001b[0m\n    exec(code_obj, self.user_global_ns, self.user_ns)\n",
      "  File \u001b[1;32m\"/var/folders/dr/_54q19cx18g1pjq11jy7g6440000gn/T/ipykernel_96911/3279816182.py\"\u001b[0m, line \u001b[1;32m1\u001b[0m, in \u001b[1;35m<module>\u001b[0m\n    print(ast.dump(ast.parse('''if x > 0:\n",
      "\u001b[0;36m  File \u001b[0;32m\"/Users/andrejvorsin/opt/anaconda3/lib/python3.9/ast.py\"\u001b[0;36m, line \u001b[0;32m50\u001b[0;36m, in \u001b[0;35mparse\u001b[0;36m\u001b[0m\n\u001b[0;31m    return compile(source, filename, mode, flags,\u001b[0m\n",
      "\u001b[0;36m  File \u001b[0;32m\"<unknown>\"\u001b[0;36m, line \u001b[0;32m1\u001b[0m\n\u001b[0;31m    if x > 0:\u001b[0m\n\u001b[0m    ^\u001b[0m\n\u001b[0;31mSyntaxError\u001b[0m\u001b[0;31m:\u001b[0m invalid syntax\n"
     ]
    }
   ],
   "source": [
    "print(ast.dump(ast.parse('''\n",
    "if x > 0:\n",
    "    print(1)\n",
    "else:\n",
    "    print(2)\n",
    "''', mode='eval'), indent=4))"
   ]
  },
  {
   "cell_type": "code",
   "execution_count": 247,
   "id": "ec36990a",
   "metadata": {},
   "outputs": [
    {
     "data": {
      "text/plain": [
       "False"
      ]
     },
     "execution_count": 247,
     "metadata": {},
     "output_type": "execute_result"
    }
   ],
   "source": [
    "('Module(body=[If(test=Compare(left=Constant(value=20), ops=[Lt()], '\n",
    " \"comparators=[Name(id='x', ctx=Load())]), body=[Pass()], \"\n",
    " \"orelse=[If(test=Compare(left=Name(id='y', ctx=Load()), ops=[Gt()], \"\n",
    " 'comparators=[Constant(value=40)]), body=[Pass()], orelse=[Pass()])])], '\n",
    " 'type_ignores=[])')"
   ]
  },
  {
   "cell_type": "code",
   "execution_count": null,
   "id": "44f224c5",
   "metadata": {},
   "outputs": [],
   "source": [
    "(\"Module(body=[If(test=Compare(left=Name(id='x', ctx=Load()), ops=[Gt()], \"\n",
    " 'comparators=[Constant(value=20)]), body=[Pass()], '\n",
    " \"orelse=[If(test=Compare(left=Name(id='y', ctx=Load()), ops=[Gt()], \"\n",
    " 'comparators=[Constant(value=40)]), body=[Pass()], orelse=[Pass()])])], '\n",
    " 'type_ignores=[])')"
   ]
  },
  {
   "cell_type": "code",
   "execution_count": null,
   "id": "909f49bc",
   "metadata": {},
   "outputs": [],
   "source": []
  },
  {
   "cell_type": "code",
   "execution_count": 244,
   "id": "31374b4e",
   "metadata": {},
   "outputs": [
    {
     "name": "stdout",
     "output_type": "stream",
     "text": [
      "<ast.If object at 0x7ff679269be0> \n",
      "\n",
      "body\n",
      "col_offset\n",
      "end_col_offset\n",
      "end_lineno\n",
      "lineno\n",
      "orelse\n",
      "test\n"
     ]
    }
   ],
   "source": [
    "t = tree.body[0].\n",
    "\n",
    "print(t, '\\n')\n",
    "print(*(attr for attr in dir(t) if not attr.startswith('_')), sep='\\n')"
   ]
  },
  {
   "cell_type": "code",
   "execution_count": 230,
   "id": "14fc03f1",
   "metadata": {},
   "outputs": [
    {
     "data": {
      "text/plain": [
       "\"Module(body=[If(test=Compare(left=Name(id='x', ctx=Load()), ops=[Lt(), Lt()], comparators=[Constant(value=20), Constant(value=40)]), body=[Pass()], orelse=[If(test=Compare(left=Name(id='y', ctx=Load()), ops=[Gt()], comparators=[Constant(value=40)]), body=[Pass()], orelse=[Pass()])])], type_ignores=[])\""
      ]
     },
     "execution_count": 230,
     "metadata": {},
     "output_type": "execute_result"
    }
   ],
   "source": [
    "('Module(body=[If(test=Compare(left=Constant(value=20), ops=[Lt(), Lt()], '\n",
    " \"comparators=[Name(id='x', ctx=Load()), Constant(value=40)]), body=[Pass()], \"\n",
    " \"orelse=[If(test=Compare(left=Name(id='y', ctx=Load()), ops=[Gt()], \"\n",
    " 'comparators=[Constant(value=40)]), body=[Pass()], orelse=[Pass()])])], '\n",
    " 'type_ignores=[])')"
   ]
  },
  {
   "cell_type": "code",
   "execution_count": 216,
   "id": "a43d5443",
   "metadata": {
    "scrolled": false
   },
   "outputs": [
    {
     "name": "stdout",
     "output_type": "stream",
     "text": [
      "<ast.If object at 0x7ff6792848b0> \n",
      "\n",
      "body\n",
      "col_offset\n",
      "end_col_offset\n",
      "end_lineno\n",
      "lineno\n",
      "orelse\n",
      "test\n"
     ]
    }
   ],
   "source": [
    "t = d.body[1].bod\n",
    "print(t, '\\n')\n",
    "print(*(attr for attr in dir(t) if not attr.startswith('_')), sep='\\n')"
   ]
  },
  {
   "cell_type": "code",
   "execution_count": 129,
   "id": "f8b6347c",
   "metadata": {},
   "outputs": [],
   "source": [
    "import flake8"
   ]
  },
  {
   "cell_type": "code",
   "execution_count": 131,
   "id": "ad77ed1e",
   "metadata": {},
   "outputs": [
    {
     "name": "stdout",
     "output_type": "stream",
     "text": [
      "Requirement already satisfied: autopep8 in /Users/andrejvorsin/opt/anaconda3/lib/python3.9/site-packages (1.6.0)\n",
      "Requirement already satisfied: toml in /Users/andrejvorsin/opt/anaconda3/lib/python3.9/site-packages (from autopep8) (0.10.2)\n",
      "Requirement already satisfied: pycodestyle>=2.8.0 in /Users/andrejvorsin/opt/anaconda3/lib/python3.9/site-packages (from autopep8) (2.8.0)\n",
      "Note: you may need to restart the kernel to use updated packages.\n"
     ]
    }
   ],
   "source": [
    "pip install autopep8"
   ]
  },
  {
   "cell_type": "code",
   "execution_count": 142,
   "id": "cb57fea0",
   "metadata": {},
   "outputs": [
    {
     "data": {
      "text/plain": [
       "'abbba'"
      ]
     },
     "execution_count": 142,
     "metadata": {},
     "output_type": "execute_result"
    }
   ],
   "source": [
    "eval(\"'abbb' + 'a'\")"
   ]
  },
  {
   "cell_type": "code",
   "execution_count": 143,
   "id": "9078d995",
   "metadata": {},
   "outputs": [
    {
     "name": "stdout",
     "output_type": "stream",
     "text": [
      "\n",
      "x = int(input())\n",
      "\n",
      "if 0 < x < 100:\n",
      "    print(1)\n",
      "\n",
      "    return 'aba' + 'a'\n",
      "\n",
      "\n",
      "if 0 < x and x < 100:\n",
      "    print(2)\n",
      "\n"
     ]
    }
   ],
   "source": [
    "import autopep8\n",
    "\n",
    "print(autopep8.fix_code('''\n",
    "x = int(  input())\n",
    "\n",
    "if 0 < x < 100:\n",
    "    print(1)\n",
    "    \n",
    "    return 'aba' + 'a'\n",
    "    \n",
    "\n",
    "if 0 < x and x < 100:\n",
    "    print(2)\n",
    "    \n",
    "'''))"
   ]
  },
  {
   "cell_type": "code",
   "execution_count": null,
   "id": "dba0ca40",
   "metadata": {},
   "outputs": [],
   "source": []
  },
  {
   "cell_type": "code",
   "execution_count": 130,
   "id": "afb7a5c4",
   "metadata": {},
   "outputs": [
    {
     "data": {
      "text/plain": [
       "['LOG',\n",
       " 'LOG_FORMAT',\n",
       " 'Type',\n",
       " '_EXTRA_VERBOSE',\n",
       " '_VERBOSITY_TO_LOG_LEVEL',\n",
       " '__builtins__',\n",
       " '__cached__',\n",
       " '__doc__',\n",
       " '__file__',\n",
       " '__loader__',\n",
       " '__name__',\n",
       " '__package__',\n",
       " '__path__',\n",
       " '__spec__',\n",
       " '__version__',\n",
       " '__version_info__',\n",
       " 'configure_logging',\n",
       " 'logging',\n",
       " 'sys']"
      ]
     },
     "execution_count": 130,
     "metadata": {},
     "output_type": "execute_result"
    }
   ],
   "source": [
    "dir(flake8)"
   ]
  },
  {
   "cell_type": "code",
   "execution_count": 124,
   "id": "187afee9",
   "metadata": {},
   "outputs": [
    {
     "data": {
      "text/plain": [
       "['__class__',\n",
       " '__delattr__',\n",
       " '__dict__',\n",
       " '__dir__',\n",
       " '__doc__',\n",
       " '__eq__',\n",
       " '__format__',\n",
       " '__ge__',\n",
       " '__getattribute__',\n",
       " '__gt__',\n",
       " '__hash__',\n",
       " '__init__',\n",
       " '__init_subclass__',\n",
       " '__le__',\n",
       " '__lt__',\n",
       " '__module__',\n",
       " '__ne__',\n",
       " '__new__',\n",
       " '__reduce__',\n",
       " '__reduce_ex__',\n",
       " '__repr__',\n",
       " '__setattr__',\n",
       " '__sizeof__',\n",
       " '__str__',\n",
       " '__subclasshook__',\n",
       " '__weakref__',\n",
       " '_attributes',\n",
       " '_fields',\n",
       " 'col_offset',\n",
       " 'end_col_offset',\n",
       " 'end_lineno',\n",
       " 'kind',\n",
       " 'lineno',\n",
       " 'n',\n",
       " 's',\n",
       " 'value']"
      ]
     },
     "execution_count": 124,
     "metadata": {},
     "output_type": "execute_result"
    }
   ],
   "source": [
    "dir(d.body[1].test.left)"
   ]
  },
  {
   "cell_type": "code",
   "execution_count": null,
   "id": "3a57db0d",
   "metadata": {},
   "outputs": [],
   "source": []
  },
  {
   "cell_type": "code",
   "execution_count": null,
   "id": "ec484928",
   "metadata": {},
   "outputs": [],
   "source": []
  },
  {
   "cell_type": "code",
   "execution_count": 81,
   "id": "8c86f010",
   "metadata": {},
   "outputs": [
    {
     "data": {
      "text/plain": [
       "<ast.Return at 0x7ff6684d6970>"
      ]
     },
     "execution_count": 81,
     "metadata": {},
     "output_type": "execute_result"
    }
   ],
   "source": [
    "d.body[1].body[1].orelse[1]"
   ]
  },
  {
   "cell_type": "code",
   "execution_count": 88,
   "id": "6673337e",
   "metadata": {},
   "outputs": [],
   "source": [
    "class CodeVisitor(ast.NodeVisitor):\n",
    "\n",
    "    def __init__(self):\n",
    "        self.code_list = []\n",
    "\n",
    "    def generic_visit(self, node):\n",
    "        self.code_list.append(type(node))\n",
    "        super().generic_visit(node)"
   ]
  },
  {
   "cell_type": "code",
   "execution_count": 89,
   "id": "5e1aed8b",
   "metadata": {},
   "outputs": [],
   "source": [
    "c = CodeVisitor()"
   ]
  },
  {
   "cell_type": "code",
   "execution_count": 249,
   "id": "3a904ed0",
   "metadata": {},
   "outputs": [],
   "source": [
    "c.generic_visit(ast.parse('''\n",
    "x = 1\n",
    "print(x)\n",
    "'''))"
   ]
  },
  {
   "cell_type": "code",
   "execution_count": 250,
   "id": "fa4e2464",
   "metadata": {},
   "outputs": [
    {
     "data": {
      "text/plain": [
       "[ast.Module,\n",
       " ast.Assign,\n",
       " ast.Name,\n",
       " ast.Store,\n",
       " ast.Call,\n",
       " ast.Name,\n",
       " ast.Load,\n",
       " ast.FunctionDef,\n",
       " ast.arguments,\n",
       " ast.arg,\n",
       " ast.Global,\n",
       " ast.If,\n",
       " ast.Compare,\n",
       " ast.Name,\n",
       " ast.Load,\n",
       " ast.Eq,\n",
       " ast.Constant,\n",
       " ast.Expr,\n",
       " ast.Call,\n",
       " ast.Name,\n",
       " ast.Load,\n",
       " ast.Constant,\n",
       " ast.Return,\n",
       " ast.Constant,\n",
       " ast.Expr,\n",
       " ast.Call,\n",
       " ast.Name,\n",
       " ast.Load,\n",
       " ast.Constant,\n",
       " ast.Return,\n",
       " ast.Constant,\n",
       " ast.Expr,\n",
       " ast.Call,\n",
       " ast.Name,\n",
       " ast.Load,\n",
       " ast.Constant,\n",
       " ast.Expr,\n",
       " ast.Call,\n",
       " ast.Name,\n",
       " ast.Load,\n",
       " ast.Constant,\n",
       " str,\n",
       " ast.Module,\n",
       " ast.Assign,\n",
       " ast.Name,\n",
       " ast.Store,\n",
       " ast.Constant,\n",
       " ast.Expr,\n",
       " ast.Call,\n",
       " ast.Name,\n",
       " ast.Load,\n",
       " ast.Name,\n",
       " ast.Load]"
      ]
     },
     "execution_count": 250,
     "metadata": {},
     "output_type": "execute_result"
    }
   ],
   "source": [
    "c.code_list"
   ]
  },
  {
   "cell_type": "code",
   "execution_count": 104,
   "id": "907ce5a9",
   "metadata": {},
   "outputs": [
    {
     "data": {
      "text/plain": [
       "10"
      ]
     },
     "execution_count": 104,
     "metadata": {},
     "output_type": "execute_result"
    }
   ],
   "source": [
    "ast.parse('a < 10', mode='eval').body.comparators[0].value"
   ]
  },
  {
   "cell_type": "code",
   "execution_count": 93,
   "id": "0c63d388",
   "metadata": {},
   "outputs": [
    {
     "data": {
      "text/plain": [
       "['__class__',\n",
       " '__delattr__',\n",
       " '__dict__',\n",
       " '__dir__',\n",
       " '__doc__',\n",
       " '__eq__',\n",
       " '__format__',\n",
       " '__ge__',\n",
       " '__getattribute__',\n",
       " '__gt__',\n",
       " '__hash__',\n",
       " '__init__',\n",
       " '__init_subclass__',\n",
       " '__le__',\n",
       " '__lt__',\n",
       " '__module__',\n",
       " '__ne__',\n",
       " '__new__',\n",
       " '__reduce__',\n",
       " '__reduce_ex__',\n",
       " '__repr__',\n",
       " '__setattr__',\n",
       " '__sizeof__',\n",
       " '__str__',\n",
       " '__subclasshook__',\n",
       " '__weakref__',\n",
       " '_attributes',\n",
       " '_fields',\n",
       " 'end_col_offset',\n",
       " 'end_lineno']"
      ]
     },
     "execution_count": 93,
     "metadata": {},
     "output_type": "execute_result"
    }
   ],
   "source": [
    "dir(ast.Compare)"
   ]
  },
  {
   "cell_type": "code",
   "execution_count": 92,
   "id": "ac9b9124",
   "metadata": {},
   "outputs": [
    {
     "data": {
      "text/plain": [
       "[ast.Module,\n",
       " ast.Assign,\n",
       " ast.Name,\n",
       " ast.Store,\n",
       " ast.Call,\n",
       " ast.Name,\n",
       " ast.Load,\n",
       " ast.FunctionDef,\n",
       " ast.arguments,\n",
       " ast.arg,\n",
       " ast.Global,\n",
       " ast.If,\n",
       " ast.Compare,\n",
       " ast.Name,\n",
       " ast.Load,\n",
       " ast.Eq,\n",
       " ast.Constant,\n",
       " ast.Expr,\n",
       " ast.Call,\n",
       " ast.Name,\n",
       " ast.Load,\n",
       " ast.Constant,\n",
       " ast.Return,\n",
       " ast.Constant,\n",
       " ast.Expr,\n",
       " ast.Call,\n",
       " ast.Name,\n",
       " ast.Load,\n",
       " ast.Constant,\n",
       " ast.Return,\n",
       " ast.Constant,\n",
       " ast.Expr,\n",
       " ast.Call,\n",
       " ast.Name,\n",
       " ast.Load,\n",
       " ast.Constant,\n",
       " ast.Expr,\n",
       " ast.Call,\n",
       " ast.Name,\n",
       " ast.Load,\n",
       " ast.Constant]"
      ]
     },
     "execution_count": 92,
     "metadata": {},
     "output_type": "execute_result"
    }
   ],
   "source": [
    "c.code_list"
   ]
  },
  {
   "cell_type": "code",
   "execution_count": null,
   "id": "ebf9b33e",
   "metadata": {},
   "outputs": [],
   "source": []
  },
  {
   "cell_type": "code",
   "execution_count": null,
   "id": "4be04c9c",
   "metadata": {},
   "outputs": [],
   "source": []
  },
  {
   "cell_type": "code",
   "execution_count": null,
   "id": "350fc2b2",
   "metadata": {},
   "outputs": [],
   "source": []
  },
  {
   "cell_type": "code",
   "execution_count": null,
   "id": "9ed440d7",
   "metadata": {},
   "outputs": [],
   "source": [
    "class CodeVisitor(ast.NodeVisitor):\n",
    "\n",
    "    def __init__(self):\n",
    "        self.code_list = []\n",
    "\n",
    "    def generic_visit(self, node):\n",
    "        self.code_list.append(type(node))\n",
    "        super().generic_visit(node)"
   ]
  },
  {
   "cell_type": "code",
   "execution_count": null,
   "id": "6e850dcd",
   "metadata": {},
   "outputs": [],
   "source": []
  },
  {
   "cell_type": "code",
   "execution_count": null,
   "id": "c4ed8cd5",
   "metadata": {},
   "outputs": [],
   "source": []
  },
  {
   "cell_type": "code",
   "execution_count": 105,
   "id": "502f1963",
   "metadata": {},
   "outputs": [
    {
     "name": "stdout",
     "output_type": "stream",
     "text": [
      "1\n",
      "2\n"
     ]
    }
   ],
   "source": [
    "x = 88\n",
    "\n",
    "if 0 < x < 100:\n",
    "    print(1)\n",
    "if x > 0 and x < 100:\n",
    "    print(2)"
   ]
  },
  {
   "cell_type": "code",
   "execution_count": 47,
   "id": "25007a5a",
   "metadata": {},
   "outputs": [],
   "source": [
    "import argparse\n",
    "import ast\n",
    "\n",
    "\n",
    "alphabet = [ast.Import,\n",
    "            ast.alias,\n",
    "            ast.ImportFrom,\n",
    "            ast.ClassDef,\n",
    "            ast.Name,\n",
    "            ast.Load,\n",
    "            ast.Expr,\n",
    "            ast.Constant,\n",
    "            ast.FunctionDef,\n",
    "            ast.arguments,\n",
    "            ast.arg,\n",
    "            ast.Subscript,\n",
    "            ast.Index,\n",
    "            ast.Assign,\n",
    "            ast.Attribute,\n",
    "            ast.Store,\n",
    "            ast.If,\n",
    "            ast.Call,\n",
    "            ast.Return,\n",
    "            ast.ExtSlice,\n",
    "            ast.Slice,\n",
    "            ast.BinOp,\n",
    "            ast.Add,\n",
    "            ast.keyword,\n",
    "            ast.List,\n",
    "            ast.Tuple,\n",
    "            ast.Sub,\n",
    "            ast.Compare,\n",
    "            ast.Eq,\n",
    "            ast.For,\n",
    "            ast.Mult,\n",
    "            ast.Div,\n",
    "            ast.Raise,\n",
    "            ast.UnaryOp,\n",
    "            ast.USub,\n",
    "            ast.Dict,\n",
    "            ast.comprehension,\n",
    "            ast.Assert]\n",
    "alphabet_mapping = {word: index for index, word in enumerate(alphabet)}\n",
    "\n",
    "\n",
    "def read_code(name):\n",
    "    with open(name, encoding='utf8') as f:\n",
    "        file = f.read()\n",
    "    return file\n",
    "\n",
    "\n",
    "class CodeVisitor(ast.NodeVisitor):\n",
    "\n",
    "    def __init__(self):\n",
    "        self.code_list = []\n",
    "\n",
    "    def generic_visit(self, node):\n",
    "        self.code_list.append(type(node))\n",
    "        super().generic_visit(node)\n",
    "\n",
    "\n",
    "class Model:\n",
    "\n",
    "    @staticmethod\n",
    "    def preprocessing(code):\n",
    "        c = CodeVisitor()\n",
    "        tree = ast.parse(code)\n",
    "        c.visit(tree)\n",
    "        return list(map(lambda x: alphabet_mapping[x], filter(lambda x: x in alphabet, c.code_list)))\n",
    "\n",
    "    @staticmethod\n",
    "    def wagner_fisher(code1: list, code2: list, shift=0.05, rep_cost=1):\n",
    "        prev_line = [j for j in range(len(code2))]\n",
    "        new_line = [0] * len(code2)\n",
    "        for i in range(len(code1)):\n",
    "            for j in range(len(code2)):\n",
    "                if j == 0:\n",
    "                    new_line[0] = i * 1\n",
    "                else:\n",
    "                    new_line[j] = min(prev_line[j] + 1,\n",
    "                                      new_line[j - 1] + 1,\n",
    "                                      prev_line[j - 1] + rep_cost * (code1[i] != code2[j]))\n",
    "            prev_line, new_line = new_line, [0] * len(code2)\n",
    "        try:\n",
    "            return min(1.0, shift + 1 - prev_line[-1] / (rep_cost * max(len(code2), len(code1))))\n",
    "        except IndexError:\n",
    "            if len(code1) == len(code2):\n",
    "                return 1\n",
    "            return 0\n",
    "\n",
    "    def __init__(self, rep_cost=1, shift=0.05):\n",
    "        self.rep_cost = rep_cost\n",
    "        self.shift = shift\n",
    "\n",
    "    def predict(self, code1, code2):\n",
    "        try:\n",
    "            return Model.wagner_fisher(code1, code2, self.shift, self.rep_cost)\n",
    "        except SyntaxError:\n",
    "            return 0\n",
    "\n",
    "\n",
    "anti_plag = Model()"
   ]
  },
  {
   "cell_type": "code",
   "execution_count": null,
   "id": "5257da8a",
   "metadata": {},
   "outputs": [],
   "source": []
  },
  {
   "cell_type": "code",
   "execution_count": null,
   "id": "c1257cd7",
   "metadata": {},
   "outputs": [],
   "source": []
  },
  {
   "cell_type": "code",
   "execution_count": null,
   "id": "368c78dc",
   "metadata": {},
   "outputs": [],
   "source": []
  },
  {
   "cell_type": "code",
   "execution_count": 19,
   "id": "2ae527e6",
   "metadata": {},
   "outputs": [
    {
     "data": {
      "text/plain": [
       "[<ast.Expr at 0x7ff678f5ca00>,\n",
       " <ast.Return at 0x7ff678f5c370>,\n",
       " <ast.For at 0x7ff678f5c3a0>]"
      ]
     },
     "execution_count": 19,
     "metadata": {},
     "output_type": "execute_result"
    }
   ],
   "source": [
    "d.body[1].body"
   ]
  },
  {
   "cell_type": "code",
   "execution_count": 2,
   "id": "2cde318d",
   "metadata": {},
   "outputs": [
    {
     "ename": "SyntaxError",
     "evalue": "invalid syntax (<unknown>, line 1)",
     "output_type": "error",
     "traceback": [
      "Traceback \u001b[0;36m(most recent call last)\u001b[0m:\n",
      "  File \u001b[1;32m\"/Users/andrejvorsin/opt/anaconda3/lib/python3.9/site-packages/IPython/core/interactiveshell.py\"\u001b[0m, line \u001b[1;32m3457\u001b[0m, in \u001b[1;35mrun_code\u001b[0m\n    exec(code_obj, self.user_global_ns, self.user_ns)\n",
      "  File \u001b[1;32m\"/var/folders/dr/_54q19cx18g1pjq11jy7g6440000gn/T/ipykernel_45881/483055293.py\"\u001b[0m, line \u001b[1;32m1\u001b[0m, in \u001b[1;35m<module>\u001b[0m\n    ast.parse('/Users/andrejvorsin/Documents/Jupyter projects/recommendation/main.py')\n",
      "\u001b[0;36m  File \u001b[0;32m\"/Users/andrejvorsin/opt/anaconda3/lib/python3.9/ast.py\"\u001b[0;36m, line \u001b[0;32m50\u001b[0;36m, in \u001b[0;35mparse\u001b[0;36m\u001b[0m\n\u001b[0;31m    return compile(source, filename, mode, flags,\u001b[0m\n",
      "\u001b[0;36m  File \u001b[0;32m\"<unknown>\"\u001b[0;36m, line \u001b[0;32m1\u001b[0m\n\u001b[0;31m    /Users/andrejvorsin/Documents/Jupyter projects/recommendation/main.py\u001b[0m\n\u001b[0m    ^\u001b[0m\n\u001b[0;31mSyntaxError\u001b[0m\u001b[0;31m:\u001b[0m invalid syntax\n"
     ]
    }
   ],
   "source": [
    "ast.parse('/Users/andrejvorsin/Documents/Jupyter projects/recommendation/main.py')"
   ]
  },
  {
   "cell_type": "code",
   "execution_count": null,
   "id": "f3e8bd63",
   "metadata": {},
   "outputs": [],
   "source": []
  }
 ],
 "metadata": {
  "kernelspec": {
   "display_name": "Python 3 (ipykernel)",
   "language": "python",
   "name": "python3"
  },
  "language_info": {
   "codemirror_mode": {
    "name": "ipython",
    "version": 3
   },
   "file_extension": ".py",
   "mimetype": "text/x-python",
   "name": "python",
   "nbconvert_exporter": "python",
   "pygments_lexer": "ipython3",
   "version": "3.9.13"
  }
 },
 "nbformat": 4,
 "nbformat_minor": 5
}
